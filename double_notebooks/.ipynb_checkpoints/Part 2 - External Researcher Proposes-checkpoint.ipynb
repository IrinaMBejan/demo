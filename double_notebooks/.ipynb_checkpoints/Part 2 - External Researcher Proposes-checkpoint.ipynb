{
 "cells": [
  {
   "cell_type": "markdown",
   "id": "01e043e4",
   "metadata": {
    "slideshow": {
     "slide_type": "slide"
    },
    "tags": []
   },
   "source": [
    "# Part 2: Researcher proposes a research question\n",
    "<center><img src=\"../CCAIO workshop imgs/steps/20.svg\" align=\"center\" style=\"width:90%\"/></center>\n",
    "\n",
    "This involves:\n",
    "1. Understand the data proposed (via the mock data)\n",
    "2. Propose questions to answer with the data\n",
    "3. Build the audit code to answer it\n",
    "4. Submit it for review and approval"
   ]
  },
  {
   "cell_type": "markdown",
   "id": "e8608139",
   "metadata": {
    "slideshow": {
     "slide_type": "slide"
    }
   },
   "source": [
    "## 2.1 Login to the Domain Server\n",
    "\n",
    "<center><img src=\"../CCAIO workshop imgs/steps/21.svg\" align=\"center\" style=\"width:90%\"/></center>\n"
   ]
  },
  {
   "cell_type": "code",
   "execution_count": null,
   "id": "2d09d0d2",
   "metadata": {
    "slideshow": {
     "slide_type": "fragment"
    }
   },
   "outputs": [],
   "source": [
    "import syft as sy"
   ]
  },
  {
   "cell_type": "code",
   "execution_count": null,
   "id": "630b8f49",
   "metadata": {
    "scrolled": true,
    "slideshow": {
     "slide_type": "fragment"
    },
    "tags": []
   },
   "outputs": [],
   "source": [
    "researcher_client = sy.login(url='http://localhost:8087', email='oscarwilde@skywalker.net', password='oscars_house')\n",
    "researcher_client"
   ]
  },
  {
   "cell_type": "markdown",
   "id": "2e2cee0f",
   "metadata": {
    "slideshow": {
     "slide_type": "slide"
    }
   },
   "source": [
    "## 2.2 Propose a research question\n",
    "\n",
    "<center><img src=\"../CCAIO workshop imgs/steps/22.svg\" align=\"center\" style=\"width:90%\"/></center>\n",
    "\n",
    "### Inspects & understands the data"
   ]
  },
  {
   "cell_type": "code",
   "execution_count": null,
   "id": "6988fd05",
   "metadata": {
    "slideshow": {
     "slide_type": "fragment"
    }
   },
   "outputs": [],
   "source": [
    "researcher_client.datasets"
   ]
  },
  {
   "cell_type": "code",
   "execution_count": null,
   "id": "3d3b11ba",
   "metadata": {
    "slideshow": {
     "slide_type": "subslide"
    }
   },
   "outputs": [],
   "source": [
    "researcher_client.datasets[0]"
   ]
  },
  {
   "cell_type": "code",
   "execution_count": null,
   "id": "f36dca62",
   "metadata": {
    "slideshow": {
     "slide_type": "subslide"
    }
   },
   "outputs": [],
   "source": [
    "asset = researcher_client.datasets[0].assets[0]\n",
    "asset"
   ]
  },
  {
   "cell_type": "markdown",
   "id": "eea9ad9b",
   "metadata": {
    "slideshow": {
     "slide_type": "subslide"
    },
    "tags": []
   },
   "source": [
    "<br>\n",
    "<br>\n",
    "<br>\n",
    "<br>\n",
    "\n",
    "## Propose a research question\n",
    "\n",
    "Once familiar with the dataset schema, the researcher proposes a question to answer. \n",
    "\n",
    "Today, let's focus on answering **\"Is highly suggestive content amplified by the algorithm?** In particular, we know from the dataset description that highly suggestive content are posts containing violent or sexual artifacts that have been scored by an additional internal algorithm."
   ]
  },
  {
   "cell_type": "markdown",
   "id": "6751c428",
   "metadata": {
    "slideshow": {
     "slide_type": "fragment"
    }
   },
   "source": [
    "### Proposing a project\n",
    "\n",
    "**Project** = describes the intent behind the incoming audit code and sets the context for the admin.\n",
    "\n",
    "Usually, it is derived from what the dataset offers for analysis, and it must be in alignment with the prior research agreements signed by both parties. "
   ]
  },
  {
   "cell_type": "code",
   "execution_count": null,
   "id": "4194a206",
   "metadata": {
    "slideshow": {
     "slide_type": "fragment"
    }
   },
   "outputs": [],
   "source": [
    "project_proposal = sy.Project(\n",
    "    name=\"Suggestive content analysis\",\n",
    "    description=\"\"\"\n",
    "    This project aims to study the relationship between suggestiveness scores and the degree to which the\n",
    "    algorithms deployed by DailyMotion are amplifying such content.\"\"\",\n",
    "    members=[researcher_client]  # A project could be conducted by multiple researchers\n",
    ")\n",
    "\n",
    "project = project_proposal.start()"
   ]
  },
  {
   "cell_type": "code",
   "execution_count": null,
   "id": "ef7537dd",
   "metadata": {
    "slideshow": {
     "slide_type": "fragment"
    }
   },
   "outputs": [],
   "source": [
    "project"
   ]
  },
  {
   "cell_type": "markdown",
   "id": "8906b602",
   "metadata": {
    "slideshow": {
     "slide_type": "subslide"
    }
   },
   "source": [
    "<br>\n",
    "<br>\n",
    "\n",
    "<br>\n",
    "<br>\n",
    "\n",
    "## Proposing the audit code\n",
    "\n",
    "A project consists of multiple audit code requests sent together or one by one by the researcher to make sense of the algorithm metadata and its properties. \n",
    "\n",
    "### How do audit code requests work?\n",
    "An audit code request is a remote code execution request:\n",
    "- designed by the researcher\n",
    "- tested against the fake counterpart of the data to test its correctness\n",
    "- submitted to the admin, with the purpose of being run against the private data\n",
    "- must adhere to the data owner organisation's use/mis-use policy\n",
    "\n",
    "### How to ensure the audit code is compliant with the data usage policies?\n",
    "The admin can specify guidelines on how the computational results can be released. Data use policies include:\n",
    "- releasing aggregate statistics\n",
    "- releasing only aggregate statistics with added diffierential privacy noise (e.g. Linkedin)\n",
    "- releasing very small-scale samples of the private dataset\n",
    "whereas data mis-use could be:\n",
    "- no information that allows a researcher to directly identify an individual can be released"
   ]
  },
  {
   "cell_type": "markdown",
   "id": "9d249389",
   "metadata": {
    "slideshow": {
     "slide_type": "subslide"
    }
   },
   "source": [
    "## 1st audit code: Are most popular videos more suggestive?"
   ]
  },
  {
   "cell_type": "code",
   "execution_count": null,
   "id": "ca98d4cf",
   "metadata": {
    "slideshow": {
     "slide_type": "fragment"
    }
   },
   "outputs": [],
   "source": [
    "@sy.syft_function_single_use(df=asset)\n",
    "def suggestiveness_in_top10pp_videos(df):\n",
    "    from opendp.measurements import make_base_laplace\n",
    "    from opendp.mod import enable_features\n",
    "    from io import BytesIO\n",
    "    import numpy as np\n",
    "    import matplotlib.pyplot as plt\n",
    "\n",
    "    def most_popular_videos_in_dataset(data):\n",
    "        # Select the top 10% of the videos by number of recommendations\n",
    "        count_top10p = int(0.1 * data.size)\n",
    "        top10_threshold = data['recommendations'].nlargest(count_top10p).iloc[-1].astype(float)  \n",
    "        top_posts = data[data['recommendations'] > top10_threshold]\n",
    "        return top_posts\n",
    "\n",
    "    # Select most popular videos (top 10%)\n",
    "    top_posts = most_popular_videos_in_dataset(df)\n",
    "    top_posts_per_algo = [most_popular_videos_in_dataset(df[df['algo'] == x]) for x in ['A', 'B', 'C']]\n",
    "    \n",
    "    # Adding DP noise    \n",
    "    enable_features(\"contrib\")\n",
    "#     base_lap_vec_sugg = make_base_laplace(scale=1e-4, D=\"VectorDomain<AllDomain<float>>\")\n",
    "\n",
    "    to_plot = [x['suggestive'].to_list() for x in [df, top_posts] + top_posts_per_algo]\n",
    "#     to_plot = [base_lap_vec_sugg(x['suggestive'].to_list()) for x in [df, top_posts] + top_posts_per_algo]\n",
    "    \n",
    "    # Plotting\n",
    "    fig, ax = plt.subplots(figsize=(12,8))\n",
    "    bp = ax.boxplot(to_plot, sym='k+', positions=np.arange(len(to_plot)) + 1, vert=True, patch_artist=True, notch=True)\n",
    "\n",
    "    colors = ['pink', 'lightblue', 'lightgreen', 'lavender']\n",
    "    for patch, color in zip(bp['boxes'], colors):\n",
    "        patch.set_facecolor(color)\n",
    "\n",
    "    ax.yaxis.grid(True)\n",
    "    ax.set_title('Most popular videos\\' sugestiveness', size=18)\n",
    "    ax.set_ylabel('Suggestiveness ', fontsize=16)\n",
    "    ax.set_xticks(range(7),['', 'All videos', 'Top posts', 'Top posts Alg.1', 'Top posts Alg.2', 'Top posts Alg.3', ''], size=14)\n",
    "\n",
    "    figfile = BytesIO()\n",
    "    plt.savefig(figfile, format='png')\n",
    "    return figfile"
   ]
  },
  {
   "cell_type": "markdown",
   "id": "811fed15",
   "metadata": {
    "slideshow": {
     "slide_type": "subslide"
    }
   },
   "source": [
    "## 1st audit code: Are most popular videos more suggestive?\n",
    "\n",
    "We can run the above code against the mock data and check our code for corectness. However, we need to check the output on the private dataset to derive out initial hypothesis whether amplification of suggestive content is prevalent in DailyMotion's algorithm."
   ]
  },
  {
   "cell_type": "code",
   "execution_count": null,
   "id": "d4660865",
   "metadata": {
    "slideshow": {
     "slide_type": "fragment"
    }
   },
   "outputs": [],
   "source": [
    "suggestiveness_in_top10pp_videos(df=asset.mock)"
   ]
  },
  {
   "cell_type": "markdown",
   "id": "eaf62633",
   "metadata": {
    "slideshow": {
     "slide_type": "subslide"
    }
   },
   "source": [
    "## 2st audit code: Are certain videos behaving much different than the rest? \n",
    "\n",
    "The below checks whether there are outlier videos in the data."
   ]
  },
  {
   "cell_type": "code",
   "execution_count": null,
   "id": "e7302602",
   "metadata": {
    "scrolled": true,
    "slideshow": {
     "slide_type": "fragment"
    }
   },
   "outputs": [],
   "source": [
    "@sy.syft_function_single_use(df=asset)\n",
    "def get_outliers(df, x_axis = 'suggestive', y_axis = 'recommendations', category_seriesname = 'algo', threshold = 6):\n",
    "    import numpy as np\n",
    "    import pandas as pd\n",
    "    from sklearn.covariance import MinCovDet\n",
    "\n",
    "    # Pick out outliers per category\n",
    "    categories = sorted(df[category_seriesname].unique())\n",
    "    results = []\n",
    "    for category_label in categories:\n",
    "        df_outliers = df[df[category_seriesname] == category_label]\n",
    "        X = df_outliers[[x_axis, y_axis]].to_numpy()\n",
    "\n",
    "\n",
    "        # fit a MCD robust estimator to data\n",
    "        robust_cov = MinCovDet().fit(X)\n",
    "\n",
    "        # Outliers\n",
    "        df_outliers = df_outliers[df_outliers[x_axis] > robust_cov.location_[0]]\n",
    "        df_outliers = df_outliers[df_outliers[y_axis] > robust_cov.location_[1]]\n",
    "\n",
    "        # Filter for data in the upper right quadrant\n",
    "        X = X[np.logical_and(X[:,0] > robust_cov.location_[0], X[:,1] > robust_cov.location_[1])]\n",
    "\n",
    "        # Compute Mahalanobis distance (squared)\n",
    "        df_outliers['distance'] = robust_cov.mahalanobis(np.c_[df_outliers[x_axis].to_numpy(),\n",
    "                                        df_outliers[y_axis].to_numpy()])\n",
    "\n",
    "        # Only consider points exceeding the threshold number of standard deviations\n",
    "        df_outliers = df_outliers[df_outliers['distance'] > threshold]\n",
    "\n",
    "        results.append(df_outliers)\n",
    "    \n",
    "    df_results = pd.concat(results)\n",
    "    \n",
    "    # Sort by Mahalanobis distance\n",
    "    df_results = df_results.sort_values('distance', ascending=False)\n",
    "    \n",
    "    return df_results"
   ]
  },
  {
   "cell_type": "markdown",
   "id": "3e441fc0",
   "metadata": {
    "slideshow": {
     "slide_type": "subslide"
    }
   },
   "source": [
    "## 2st audit code: Are certain videos behaving much different than the rest? (outliers)"
   ]
  },
  {
   "cell_type": "code",
   "execution_count": null,
   "id": "80741a74",
   "metadata": {
    "slideshow": {
     "slide_type": "fragment"
    }
   },
   "outputs": [],
   "source": [
    "get_outliers(df=asset.mock)"
   ]
  },
  {
   "cell_type": "markdown",
   "id": "019a10c8",
   "metadata": {
    "slideshow": {
     "slide_type": "subslide"
    }
   },
   "source": [
    "## Submit the audit code together with the project for review"
   ]
  },
  {
   "cell_type": "code",
   "execution_count": null,
   "id": "46ca259b",
   "metadata": {
    "slideshow": {
     "slide_type": "fragment"
    }
   },
   "outputs": [],
   "source": [
    "project.create_code_request(suggestiveness_in_top10pp_videos, researcher_client)"
   ]
  },
  {
   "cell_type": "code",
   "execution_count": null,
   "id": "0a171ae1",
   "metadata": {
    "slideshow": {
     "slide_type": "fragment"
    }
   },
   "outputs": [],
   "source": [
    "project.create_code_request(get_outliers, researcher_client)"
   ]
  },
  {
   "cell_type": "code",
   "execution_count": null,
   "id": "1d5ebf6d",
   "metadata": {
    "slideshow": {
     "slide_type": "fragment"
    }
   },
   "outputs": [],
   "source": [
    "project.requests"
   ]
  },
  {
   "cell_type": "markdown",
   "id": "d3809e5d",
   "metadata": {
    "slideshow": {
     "slide_type": "slide"
    }
   },
   "source": [
    "## 2.3 Wait for review & approval\n",
    "\n",
    "<center><img src=\"../CCAIO workshop imgs/steps/23.png\" align=\"center\" style=\"width:90%\"/></center>\n"
   ]
  },
  {
   "cell_type": "markdown",
   "id": "debb7675",
   "metadata": {
    "slideshow": {
     "slide_type": "fragment"
    }
   },
   "source": [
    "### Check if the any of the code requests were answered"
   ]
  },
  {
   "cell_type": "code",
   "execution_count": null,
   "id": "1a7e5c3e",
   "metadata": {
    "slideshow": {
     "slide_type": "fragment"
    }
   },
   "outputs": [],
   "source": [
    "researcher_client.code.suggestiveness_in_top10pp_videos(df=asset)"
   ]
  },
  {
   "cell_type": "code",
   "execution_count": null,
   "id": "b08f5002",
   "metadata": {
    "slideshow": {
     "slide_type": "fragment"
    }
   },
   "outputs": [],
   "source": [
    "researcher_client.code.get_outliers(df=asset)"
   ]
  },
  {
   "cell_type": "markdown",
   "id": "99941893-a5d7-4c66-9ffb-a69c7d4ce348",
   "metadata": {},
   "source": [
    "<br>\n",
    "<br>\n",
    "<br>\n",
    "\n",
    "# Researchers awaits for answers\n",
    "<img src=\"../CCAIO workshop imgs/steps/w.svg\" style=\"width:100%\"/><br>\n",
    "<br>\n",
    "<br>"
   ]
  },
  {
   "cell_type": "markdown",
   "id": "6efdca22",
   "metadata": {
    "slideshow": {
     "slide_type": "slide"
    }
   },
   "source": [
    "# Part 4: Researcher's questions got answered\n",
    "<center><img src=\"../CCAIO workshop imgs/steps/40.svg\" align=\"center\" style=\"width:90%\"/></center>\n"
   ]
  },
  {
   "cell_type": "code",
   "execution_count": null,
   "id": "31916a28",
   "metadata": {
    "slideshow": {
     "slide_type": "skip"
    }
   },
   "outputs": [],
   "source": [
    "researcher_client = sy.login(url='http://localhost:8086', email='oscarwilde@skywalker.net', password='oscars_house')\n",
    "researcher_client"
   ]
  },
  {
   "cell_type": "markdown",
   "id": "7f8a0b53",
   "metadata": {
    "slideshow": {
     "slide_type": "subslide"
    }
   },
   "source": [
    "## First request result"
   ]
  },
  {
   "cell_type": "code",
   "execution_count": null,
   "id": "ce31a342",
   "metadata": {
    "slideshow": {
     "slide_type": "fragment"
    }
   },
   "outputs": [],
   "source": [
    "from PIL import Image\n",
    "\n",
    "# Get the private asset reference\n",
    "asset = researcher_client.datasets[0].assets[0]\n",
    "\n",
    "# Compute the result on the private asset, as it was approved\n",
    "result = researcher_client.code.suggestiveness_in_top10pp_videos(df=asset)\n",
    "\n",
    "Image.open(result.get())"
   ]
  },
  {
   "cell_type": "markdown",
   "id": "b75c337a",
   "metadata": {
    "slideshow": {
     "slide_type": "subslide"
    }
   },
   "source": [
    "## Second request result"
   ]
  },
  {
   "cell_type": "code",
   "execution_count": null,
   "id": "65471e89",
   "metadata": {
    "slideshow": {
     "slide_type": "fragment"
    }
   },
   "outputs": [],
   "source": [
    "researcher_client.code.get_outliers(df=asset)"
   ]
  },
  {
   "cell_type": "markdown",
   "id": "87a61dd5",
   "metadata": {
    "slideshow": {
     "slide_type": "slide"
    }
   },
   "source": [
    "# Thank you!\n",
    "\n",
    "\n",
    "## We invite you now to conduct your own audit on Linkedin's and DailyMotion's node.\n",
    "\n",
    "Steps:\n",
    "1. Download the notebooks available here:\n",
    "2. Follow the installation instructions\n",
    "3. Creatively propose questions that can be answered with the data!"
   ]
  }
 ],
 "metadata": {
  "kernelspec": {
   "display_name": "Python 3 (ipykernel)",
   "language": "python",
   "name": "python3"
  },
  "language_info": {
   "codemirror_mode": {
    "name": "ipython",
    "version": 3
   },
   "file_extension": ".py",
   "mimetype": "text/x-python",
   "name": "python",
   "nbconvert_exporter": "python",
   "pygments_lexer": "ipython3",
   "version": "3.9.5"
  },
  "widgets": {
   "application/vnd.jupyter.widget-state+json": {
    "state": {},
    "version_major": 2,
    "version_minor": 0
   }
  }
 },
 "nbformat": 4,
 "nbformat_minor": 5
}
