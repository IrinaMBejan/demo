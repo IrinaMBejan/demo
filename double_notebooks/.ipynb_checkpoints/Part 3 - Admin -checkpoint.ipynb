{
 "cells": [
  {
   "cell_type": "markdown",
   "id": "2023be31-0b15-41ef-acaa-f057d4ffe378",
   "metadata": {
    "tags": []
   },
   "source": [
    "<br>\n",
    "<br>\n",
    "<br>\n",
    "\n",
    "<h1 align=\"center\"> Admin waits for incoming research proposals </h1>\n",
    "<img src=\"../CCAIO workshop imgs/steps/w.svg\" style=\"width:100%\"/><br>\n",
    "<br>\n",
    "<br>"
   ]
  },
  {
   "cell_type": "markdown",
   "id": "8b27436b",
   "metadata": {
    "slideshow": {
     "slide_type": "slide"
    },
    "tags": []
   },
   "source": [
    "<h1 align=\"center\">Part 3</h1>\n",
    "\n",
    "<h1 align=\"center\">Admin responds to incoming questions</h1>\n",
    "\n",
    "<center><img src=\"../CCAIO workshop imgs/steps/30.svg\" align=\"center\" style=\"width:90%\"/></center>\n",
    "\n",
    "This involves:\n",
    "- review the incoming requests\n",
    "- decide whether the requests are compliant with the admin's organisation requirements\n",
    "- approve or deny accordingly each request"
   ]
  },
  {
   "cell_type": "markdown",
   "id": "9043df45",
   "metadata": {
    "slideshow": {
     "slide_type": "subslide"
    },
    "tags": []
   },
   "source": [
    "# 3.1. Review of the research proposal and code\n",
    "<center><img src=\"../CCAIO workshop imgs/steps/31.svg\" align=\"center\" style=\"width:90%\"/></center>\n"
   ]
  },
  {
   "cell_type": "code",
   "execution_count": null,
   "id": "bc30bc13",
   "metadata": {
    "slideshow": {
     "slide_type": "fragment"
    },
    "tags": []
   },
   "outputs": [],
   "source": [
    "%%capture\n",
    "import syft as sy\n",
    "\n",
    "# Logging as admin to the server\n",
    "admin_client = sy.login(port=8087, email=\"info@openmined.org\", password=\"changethis\")"
   ]
  },
  {
   "cell_type": "code",
   "execution_count": null,
   "id": "7ca20b6c-cfab-4157-abe6-6e1ae79a9176",
   "metadata": {
    "scrolled": true,
    "tags": []
   },
   "outputs": [],
   "source": [
    "admin_client"
   ]
  },
  {
   "cell_type": "markdown",
   "id": "937940f7",
   "metadata": {
    "slideshow": {
     "slide_type": "subslide"
    },
    "tags": []
   },
   "source": [
    "## Review: research project proposal"
   ]
  },
  {
   "cell_type": "code",
   "execution_count": null,
   "id": "cd5f22d4",
   "metadata": {
    "slideshow": {
     "slide_type": "fragment"
    }
   },
   "outputs": [],
   "source": [
    "project = admin_client.projects[0]\n",
    "project"
   ]
  },
  {
   "cell_type": "markdown",
   "id": "9d44444d-7f94-4d95-8cc9-4d7ec247da36",
   "metadata": {},
   "source": [
    "**Approving the project**: The project proposes an interesting question that is aligned with the initial motivation, so we can review it further."
   ]
  },
  {
   "cell_type": "markdown",
   "id": "603ae83d",
   "metadata": {
    "slideshow": {
     "slide_type": "subslide"
    }
   },
   "source": [
    "## Review: the code requests attached to the project\n",
    "\n",
    "The admin is responsible now for enforcing the data usage and release policies stated before. \n",
    "<center><img src=\"../CCAIO workshop imgs/steps/-4.svg\" align=\"center\" style=\"width:90%\"/></center>\n"
   ]
  },
  {
   "cell_type": "markdown",
   "id": "e30c533f-bf7b-428d-b083-da6aef35cb24",
   "metadata": {},
   "source": [
    "#### 1st request: suggestiveness_in_top10pp_videos"
   ]
  },
  {
   "cell_type": "code",
   "execution_count": null,
   "id": "df1f7d3e",
   "metadata": {
    "scrolled": true,
    "slideshow": {
     "slide_type": "fragment"
    },
    "tags": []
   },
   "outputs": [],
   "source": [
    "request_1 = project.requests[0]\n",
    "request_1.code"
   ]
  },
  {
   "cell_type": "markdown",
   "id": "659f991d-4132-43bf-ade5-11e807bfc16b",
   "metadata": {},
   "source": [
    "The code is compliant because:\n",
    "- releases aggregate statistics\n",
    "- does not release information about any individual"
   ]
  },
  {
   "cell_type": "markdown",
   "id": "0d0f0a5f",
   "metadata": {
    "slideshow": {
     "slide_type": "subslide"
    }
   },
   "source": [
    "#### Second request: get_outliers\n",
    "\n",
    "The 2nd request releases a very small sample (~10-20) of the videos, flagged to be considered outliers. "
   ]
  },
  {
   "cell_type": "code",
   "execution_count": null,
   "id": "7c8b5c8e",
   "metadata": {
    "scrolled": true,
    "slideshow": {
     "slide_type": "fragment"
    },
    "tags": []
   },
   "outputs": [],
   "source": [
    "request_2 = project.requests[1]\n",
    "request_2.code"
   ]
  },
  {
   "cell_type": "markdown",
   "id": "6b779530-1cfe-4465-ae21-81155e8e839f",
   "metadata": {},
   "source": [
    "\n",
    "Releasing directly a sample of videos *doesn't* reveal personal information. However, it could posses a few risks - for example: \n",
    "- **Possible impact on content creators**: \n",
    "    - if the researcher can sense specific patterns from the data that algorithms recommend more, they can have competitive advantage in the platform\n",
    "- **Privacy and consent**: \n",
    "    - it reveals videos considered most toxic on the platform. This could potentially harm the reputation or privacy of content creators."
   ]
  },
  {
   "cell_type": "markdown",
   "id": "1a92fe3d",
   "metadata": {
    "slideshow": {
     "slide_type": "fragment"
    }
   },
   "source": [
    "<div class=\"admonition alert alert-warning\">\n",
    "    <p class=\"admonition-title\" style=\"font-weight:bold\">Interactive Open Governance Question</p>\n",
    "    Is it ethical to release such a very small scale sample, given possible risks for the platform users, to advance our understanding of algorithms? Why? </div>\n",
    "\n"
   ]
  },
  {
   "cell_type": "markdown",
   "id": "033aa78c",
   "metadata": {
    "jp-MarkdownHeadingCollapsed": true,
    "slideshow": {
     "slide_type": "subslide"
    },
    "tags": []
   },
   "source": [
    "### Our perspective\n",
    "\n",
    "<div class=\"admonition alert alert-info\">\n",
    "    The above request could be approved. \n",
    "    Due to the very-small scale of the data, the release might not allow someone to build a competitive advantage.     \n",
    "    However, a real sample - in particular of harmful content - provides significant understanding to the researcher of the data and help the company improve their systems.</div>"
   ]
  },
  {
   "cell_type": "markdown",
   "id": "732283f1",
   "metadata": {
    "slideshow": {
     "slide_type": "subslide"
    },
    "tags": []
   },
   "source": [
    "## 2.2 Review the execution output\n",
    "\n",
    "<center><img src=\"../CCAIO workshop imgs/steps/32.svg\" align=\"center\" style=\"width:90%\"/></center>"
   ]
  },
  {
   "cell_type": "code",
   "execution_count": null,
   "id": "d13761c8-0412-4399-baff-4033c749ff37",
   "metadata": {},
   "outputs": [],
   "source": [
    "real_data = admin_client.datasets[0].assets[0]"
   ]
  },
  {
   "cell_type": "code",
   "execution_count": null,
   "id": "0d574a84",
   "metadata": {
    "slideshow": {
     "slide_type": "fragment"
    }
   },
   "outputs": [],
   "source": [
    "# Running 1st request\n",
    "request_1.code.unsafe_function(df=real_data)"
   ]
  },
  {
   "cell_type": "code",
   "execution_count": null,
   "id": "68341ec4-1b6e-46b8-b6f8-17cfa0ea21fd",
   "metadata": {},
   "outputs": [],
   "source": [
    "# Running 2nd request\n",
    "request_1.code.unsafe_function(df=real_data)"
   ]
  },
  {
   "cell_type": "markdown",
   "id": "7ca2254d",
   "metadata": {
    "slideshow": {
     "slide_type": "subslide"
    }
   },
   "source": [
    "## 2.3 Submits the final answer back to all requests\n",
    "\n",
    "<center><img src=\"../CCAIO workshop imgs/steps/33.svg\" align=\"center\" style=\"width:90%\"/></center>\n"
   ]
  },
  {
   "cell_type": "markdown",
   "id": "f8f2a6a5",
   "metadata": {
    "slideshow": {
     "slide_type": "fragment"
    }
   },
   "source": [
    "### Responding to each..."
   ]
  },
  {
   "cell_type": "code",
   "execution_count": null,
   "id": "fdececcb",
   "metadata": {
    "slideshow": {
     "slide_type": "fragment"
    }
   },
   "outputs": [],
   "source": [
    "# Approve the first\n",
    "request_1.approve()"
   ]
  },
  {
   "cell_type": "code",
   "execution_count": null,
   "id": "182b423c-bfd9-4dba-85c1-5c44cbe48595",
   "metadata": {},
   "outputs": [],
   "source": [
    "# Approve the second\n",
    "request_2.approve()"
   ]
  },
  {
   "cell_type": "code",
   "execution_count": null,
   "id": "7f432d97",
   "metadata": {
    "slideshow": {
     "slide_type": "fragment"
    }
   },
   "outputs": [],
   "source": [
    "# # Deny the second\n",
    "# request_2.deny(reason=\"This request requires releasing a subsample of the impression data and video metadata, which could put the privacy of our users at risk.\")"
   ]
  },
  {
   "cell_type": "markdown",
   "id": "84e3483a-f397-4f02-aeb4-15dd4b208de4",
   "metadata": {},
   "source": [
    "<br>\n",
    "<br>\n",
    "\n",
    "<h1 align=\"center\"> Admin waits to review the findings</h1>\n",
    "<img src=\"../CCAIO workshop imgs/steps/w.svg\" style=\"width:100%\"/><br>\n",
    "\n",
    "<br>\n",
    "<br>"
   ]
  }
 ],
 "metadata": {
  "kernelspec": {
   "display_name": "Python 3 (ipykernel)",
   "language": "python",
   "name": "python3"
  },
  "language_info": {
   "codemirror_mode": {
    "name": "ipython",
    "version": 3
   },
   "file_extension": ".py",
   "mimetype": "text/x-python",
   "name": "python",
   "nbconvert_exporter": "python",
   "pygments_lexer": "ipython3",
   "version": "3.9.5"
  },
  "widgets": {
   "application/vnd.jupyter.widget-state+json": {
    "state": {},
    "version_major": 2,
    "version_minor": 0
   }
  }
 },
 "nbformat": 4,
 "nbformat_minor": 5
}
