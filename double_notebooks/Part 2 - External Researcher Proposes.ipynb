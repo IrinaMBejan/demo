{
 "cells": [
  {
   "cell_type": "markdown",
   "id": "01e043e4",
   "metadata": {
    "slideshow": {
     "slide_type": "slide"
    },
    "tags": []
   },
   "source": [
    "<br>\n",
    "<br>\n",
    "<h1 align=\"center\"> Part 2</h1>\n",
    "<h1 align=\"center\">Researcher proposes a research question</h1>\n",
    "<center><img src=\"../CCAIO workshop imgs/steps/20.svg\" align=\"center\" style=\"width:90%; align:center\"/></center>"
   ]
  },
  {
   "cell_type": "markdown",
   "id": "e8608139",
   "metadata": {
    "slideshow": {
     "slide_type": "slide"
    }
   },
   "source": [
    "## 2.1 Gets access to the Domain Server\n",
    "\n",
    "<center><img src=\"../CCAIO workshop imgs/steps/21.svg\" align=\"center\" style=\"width:90%\"/></center>\n"
   ]
  },
  {
   "cell_type": "code",
   "execution_count": null,
   "id": "2d09d0d2",
   "metadata": {
    "slideshow": {
     "slide_type": "fragment"
    }
   },
   "outputs": [],
   "source": [
    "%%capture \n",
    "import syft as sy"
   ]
  },
  {
   "cell_type": "code",
   "execution_count": null,
   "id": "630b8f49",
   "metadata": {
    "scrolled": true,
    "slideshow": {
     "slide_type": "fragment"
    },
    "tags": []
   },
   "outputs": [],
   "source": [
    "researcher_client = sy.login(url='http://localhost:8087', email='oscarwilde@skywalker.net', password='oscars_house')\n",
    "researcher_client"
   ]
  },
  {
   "cell_type": "markdown",
   "id": "2e2cee0f",
   "metadata": {
    "slideshow": {
     "slide_type": "slide"
    }
   },
   "source": [
    "## 2.2 Proposing a research question\n",
    "\n",
    "<center><img src=\"../CCAIO workshop imgs/steps/22.svg\" align=\"center\" style=\"width:90%\"/></center>\n",
    "\n",
    "### Pre-requisite: Understand the available data assets"
   ]
  },
  {
   "cell_type": "code",
   "execution_count": null,
   "id": "3d3b11ba",
   "metadata": {
    "slideshow": {
     "slide_type": "subslide"
    }
   },
   "outputs": [],
   "source": [
    "researcher_client.datasets[0]"
   ]
  },
  {
   "cell_type": "code",
   "execution_count": null,
   "id": "f36dca62",
   "metadata": {
    "slideshow": {
     "slide_type": "subslide"
    }
   },
   "outputs": [],
   "source": [
    "asset = researcher_client.datasets[0].assets[0]\n",
    "asset"
   ]
  },
  {
   "cell_type": "markdown",
   "id": "eea9ad9b",
   "metadata": {
    "slideshow": {
     "slide_type": "subslide"
    },
    "tags": []
   },
   "source": [
    "<br>\n",
    "<br>\n",
    "<br>\n",
    "\n",
    "## Propose a research question\n",
    "\n",
    "Once familiar with the dataset schema, the researcher proposes a question to answer. \n",
    "\n",
    "<center><img src=\"../CCAIO workshop imgs/steps/exp.svg\" align=\"center\" style=\"width:90%\"/></center>\n",
    "\n",
    "\n",
    "**Highly suggestive content** = posts flagged by internal AI algorithms and human raters to contain violent or sexual artifacts"
   ]
  },
  {
   "cell_type": "markdown",
   "id": "6751c428",
   "metadata": {
    "slideshow": {
     "slide_type": "fragment"
    }
   },
   "source": [
    "### Proposing a project\n",
    "\n",
    "- introduces the research questions to be studied\n",
    "- must align with motivation stated during background checks/legal agreements"
   ]
  },
  {
   "cell_type": "code",
   "execution_count": null,
   "id": "4194a206",
   "metadata": {
    "slideshow": {
     "slide_type": "fragment"
    }
   },
   "outputs": [],
   "source": [
    "project_proposal = sy.Project(\n",
    "    name=\"Suggestive content analysis\",\n",
    "    description=\"\"\"\n",
    "    This project aims to study the relationship between suggestiveness scores and the degree to which the\n",
    "    algorithms deployed by DailyMotion are amplifying such content.\"\"\",\n",
    "    members=[researcher_client]  # Note: A project could be conducted by multiple researchers\n",
    ")\n",
    "\n",
    "project = project_proposal.start()"
   ]
  },
  {
   "cell_type": "code",
   "execution_count": null,
   "id": "ef7537dd",
   "metadata": {
    "slideshow": {
     "slide_type": "fragment"
    }
   },
   "outputs": [],
   "source": [
    "project"
   ]
  },
  {
   "cell_type": "markdown",
   "id": "8906b602",
   "metadata": {
    "slideshow": {
     "slide_type": "subslide"
    }
   },
   "source": [
    "<br>\n",
    "<br>\n",
    "\n",
    "## Proposing the audit code\n",
    "\n",
    "A project consists of multiple audit code requests that implement the researcher's approach to answering the proposed question.\n",
    "\n",
    "### How do code requests work?\n",
    "An code request is a remote code execution request that is:\n",
    "- *written* by the researcher on their own machine\n",
    "- *adheres* to the admin organisation's use/mis-use policies\n",
    "- *tested* against the fake counterpart of the data for correctness\n",
    "- *submitted* for review, with the purpose of being run on the private data\n",
    "\n",
    "<br>\n",
    "\n",
    "### What are data usage/release policies?\n",
    "<center><img src=\"../CCAIO workshop imgs/steps/-3.svg\" align=\"center\" style=\"width:90%\"/></center>\n",
    "\n",
    "\n",
    "**we assume the above were shared with the researchers when onboarded*"
   ]
  },
  {
   "cell_type": "markdown",
   "id": "9d249389",
   "metadata": {
    "slideshow": {
     "slide_type": "subslide"
    }
   },
   "source": [
    "## Designing the 1st code request\n",
    "\n",
    "### Are most popular videos more suggestive?\n",
    "**Methodology:**\n",
    "- define *popular* as the top-10% videos by number of recommendations within the platform\n",
    "- investigate if the avg suggestiveness score of popular videos is higher that the platform's average\n",
    "- investigate if any of the algorithms contributes more to the popularity of suggestive content"
   ]
  },
  {
   "cell_type": "code",
   "execution_count": null,
   "id": "ca98d4cf",
   "metadata": {
    "slideshow": {
     "slide_type": "fragment"
    }
   },
   "outputs": [],
   "source": [
    "@sy.syft_function_single_use(df=asset)\n",
    "def suggestiveness_in_top10pp_videos(df):\n",
    "    from io import BytesIO\n",
    "    import numpy as np\n",
    "    import matplotlib.pyplot as plt\n",
    "\n",
    "    def most_popular_videos_in_dataset(data):\n",
    "        # Select the top 10% of the videos by number of recommendations\n",
    "        count_top10p = int(0.1 * data.size)\n",
    "        top10_threshold = data['recommendations'].nlargest(count_top10p).iloc[-1].astype(float)  \n",
    "        top_posts = data[data['recommendations'] > top10_threshold]\n",
    "        return top_posts\n",
    "\n",
    "    # Select most popular videos (top 10%)\n",
    "    top_posts = most_popular_videos_in_dataset(df)\n",
    "    top_posts_per_algo = [most_popular_videos_in_dataset(df[df['algo'] == x]) for x in ['A', 'B', 'C']]\n",
    "    to_plot = [x['suggestive'].to_list() for x in [df, top_posts] + top_posts_per_algo]\n",
    "    \n",
    "    # Plotting\n",
    "    fig, ax = plt.subplots(figsize=(12,8))\n",
    "    bp = ax.boxplot(to_plot, sym='k+', positions=np.arange(len(to_plot)) + 1, vert=True, patch_artist=True, notch=True)\n",
    "\n",
    "    colors = ['pink', 'lightblue', 'lightgreen', 'lavender']\n",
    "    for patch, color in zip(bp['boxes'], colors):\n",
    "        patch.set_facecolor(color)\n",
    "\n",
    "    ax.yaxis.grid(True)\n",
    "    ax.set_title('Most popular videos\\' sugestiveness', size=18)\n",
    "    ax.set_ylabel('Suggestiveness ', fontsize=16)\n",
    "    ax.set_xticks(range(7),['', 'All videos', 'Top posts', 'Top posts Alg.1', 'Top posts Alg.2', 'Top posts Alg.3', ''], size=14)\n",
    "\n",
    "    figfile = BytesIO()\n",
    "    plt.savefig(figfile, format='png')\n",
    "    return figfile"
   ]
  },
  {
   "cell_type": "markdown",
   "id": "811fed15",
   "metadata": {
    "slideshow": {
     "slide_type": "subslide"
    }
   },
   "source": [
    "## Running 1st code request\n",
    "\n",
    "We can run the above code against the mock data and check our code for corectness."
   ]
  },
  {
   "cell_type": "code",
   "execution_count": null,
   "id": "d4660865",
   "metadata": {
    "slideshow": {
     "slide_type": "fragment"
    }
   },
   "outputs": [],
   "source": [
    "suggestiveness_in_top10pp_videos(df=asset.mock)"
   ]
  },
  {
   "cell_type": "markdown",
   "id": "77804c7a-4ace-41ec-ae7b-7d0abf48755c",
   "metadata": {},
   "source": [
    "If it corresponds to what we would like to learn from private data, we continue further.\n",
    "Otherwise, we go backand refine our code request till it does."
   ]
  },
  {
   "cell_type": "markdown",
   "id": "eaf62633",
   "metadata": {
    "slideshow": {
     "slide_type": "subslide"
    }
   },
   "source": [
    "## Designing the 2st code request\n",
    "\n",
    "### What videos have been uniquely highly recommended or highly suggestive (or both)?\n",
    "**Methodology:**\n",
    "- for each algorithm:\n",
    "    - we fit an estimator on the relation between suggestiveness score and the number of recommendations\n",
    "    - we extract the outliers\n",
    "- we inspect the extracted videos manually and look for unusual patterns in the behaviour of the algorithms"
   ]
  },
  {
   "cell_type": "code",
   "execution_count": null,
   "id": "e7302602",
   "metadata": {
    "scrolled": true,
    "slideshow": {
     "slide_type": "fragment"
    }
   },
   "outputs": [],
   "source": [
    "@sy.syft_function_single_use(df=asset)\n",
    "def get_outliers(df, x_axis = 'suggestive', y_axis = 'recommendations', category_seriesname = 'algo', threshold = 6):\n",
    "    # Code author: Jiahao Chen\n",
    "    import numpy as np\n",
    "    import pandas as pd\n",
    "    from sklearn.covariance import MinCovDet\n",
    "\n",
    "    # Pick out outliers per category\n",
    "    categories = sorted(df[category_seriesname].unique())\n",
    "    results = []\n",
    "    for category_label in categories:\n",
    "        df_outliers = df[df[category_seriesname] == category_label]\n",
    "        X = df_outliers[[x_axis, y_axis]].to_numpy()\n",
    "\n",
    "        # fit a MCD robust estimator to data\n",
    "        robust_cov = MinCovDet().fit(X)\n",
    "\n",
    "        # Outliers\n",
    "        df_outliers = df_outliers[df_outliers[x_axis] > robust_cov.location_[0]]\n",
    "        df_outliers = df_outliers[df_outliers[y_axis] > robust_cov.location_[1]]\n",
    "\n",
    "        # Filter for data in the upper right quadrant\n",
    "        X = X[np.logical_and(X[:,0] > robust_cov.location_[0], X[:,1] > robust_cov.location_[1])]\n",
    "\n",
    "        # Compute Mahalanobis distance (squared)\n",
    "        df_outliers['distance'] = robust_cov.mahalanobis(np.c_[df_outliers[x_axis].to_numpy(),\n",
    "                                        df_outliers[y_axis].to_numpy()])\n",
    "\n",
    "        # Only consider points exceeding the threshold number of standard deviations\n",
    "        df_outliers = df_outliers[df_outliers['distance'] > threshold]\n",
    "\n",
    "        results.append(df_outliers)\n",
    "    \n",
    "    df_results = pd.concat(results)\n",
    "    \n",
    "    # Sort by Mahalanobis distance\n",
    "    df_results = df_results.sort_values('distance', ascending=False)\n",
    "    \n",
    "    return df_results"
   ]
  },
  {
   "cell_type": "markdown",
   "id": "3e441fc0",
   "metadata": {
    "slideshow": {
     "slide_type": "subslide"
    }
   },
   "source": [
    "## Running the 2st code request\n",
    "We can now see the extracted outlier videos to understand the algorithms and their shortcomings better."
   ]
  },
  {
   "cell_type": "code",
   "execution_count": null,
   "id": "80741a74",
   "metadata": {
    "slideshow": {
     "slide_type": "fragment"
    }
   },
   "outputs": [],
   "source": [
    "get_outliers(df=asset.mock)"
   ]
  },
  {
   "cell_type": "markdown",
   "id": "019a10c8",
   "metadata": {
    "slideshow": {
     "slide_type": "subslide"
    }
   },
   "source": [
    "## Submit the project and the corresponding code requests"
   ]
  },
  {
   "cell_type": "code",
   "execution_count": null,
   "id": "46ca259b",
   "metadata": {
    "slideshow": {
     "slide_type": "fragment"
    }
   },
   "outputs": [],
   "source": [
    "project.create_code_request(suggestiveness_in_top10pp_videos, researcher_client)"
   ]
  },
  {
   "cell_type": "code",
   "execution_count": null,
   "id": "0a171ae1",
   "metadata": {
    "slideshow": {
     "slide_type": "fragment"
    }
   },
   "outputs": [],
   "source": [
    "project.create_code_request(get_outliers, researcher_client)"
   ]
  },
  {
   "cell_type": "code",
   "execution_count": null,
   "id": "1d5ebf6d",
   "metadata": {
    "slideshow": {
     "slide_type": "fragment"
    }
   },
   "outputs": [],
   "source": [
    "project.requests"
   ]
  },
  {
   "cell_type": "markdown",
   "id": "d3809e5d",
   "metadata": {
    "slideshow": {
     "slide_type": "slide"
    }
   },
   "source": [
    "## 2.3 Wait for review & approval\n",
    "\n",
    "<center><img src=\"../CCAIO workshop imgs/steps/23.png\" align=\"center\" style=\"width:90%\"/></center>\n"
   ]
  },
  {
   "cell_type": "markdown",
   "id": "debb7675",
   "metadata": {
    "slideshow": {
     "slide_type": "fragment"
    }
   },
   "source": [
    "### Check if the any of the code requests were answered"
   ]
  },
  {
   "cell_type": "code",
   "execution_count": null,
   "id": "1a7e5c3e",
   "metadata": {
    "slideshow": {
     "slide_type": "fragment"
    }
   },
   "outputs": [],
   "source": [
    "researcher_client.code.suggestiveness_in_top10pp_videos(df=asset)"
   ]
  },
  {
   "cell_type": "code",
   "execution_count": null,
   "id": "b08f5002",
   "metadata": {
    "slideshow": {
     "slide_type": "fragment"
    }
   },
   "outputs": [],
   "source": [
    "researcher_client.code.get_outliers(df=asset)"
   ]
  },
  {
   "cell_type": "markdown",
   "id": "99941893-a5d7-4c66-9ffb-a69c7d4ce348",
   "metadata": {},
   "source": [
    "<br>\n",
    "<br>\n",
    "<br>\n",
    "\n",
    "<h1 align=\"center\"> Researchers waits for answers </h1>\n",
    "<img src=\"../CCAIO workshop imgs/steps/w.svg\" style=\"width:100%\"/><br>\n",
    "<br>\n",
    "<br>"
   ]
  },
  {
   "cell_type": "markdown",
   "id": "6efdca22",
   "metadata": {
    "slideshow": {
     "slide_type": "slide"
    }
   },
   "source": [
    "<h1 align=\"center\"> Part 4</h1>\n",
    "<h1 align=\"center\"> Researcher's questions get answered </h1>\n",
    "<center><img src=\"../CCAIO workshop imgs/steps/40.svg\" align=\"center\" style=\"width:90%\"/></center>\n"
   ]
  },
  {
   "cell_type": "markdown",
   "id": "7f8a0b53",
   "metadata": {
    "slideshow": {
     "slide_type": "subslide"
    }
   },
   "source": [
    "## Result for the 1st code request"
   ]
  },
  {
   "cell_type": "code",
   "execution_count": null,
   "id": "ce31a342",
   "metadata": {
    "slideshow": {
     "slide_type": "fragment"
    }
   },
   "outputs": [],
   "source": [
    "from PIL import Image\n",
    "\n",
    "# Get the private asset reference\n",
    "asset = researcher_client.datasets[0].assets[0]\n",
    "\n",
    "# Compute the result on the private asset, as it was approved\n",
    "result = researcher_client.code.suggestiveness_in_top10pp_videos(df=asset)\n",
    "\n",
    "Image.open(result.get())"
   ]
  },
  {
   "cell_type": "markdown",
   "id": "b75c337a",
   "metadata": {
    "slideshow": {
     "slide_type": "subslide"
    }
   },
   "source": [
    "## Result for the 2nd code request"
   ]
  },
  {
   "cell_type": "code",
   "execution_count": null,
   "id": "65471e89",
   "metadata": {
    "slideshow": {
     "slide_type": "fragment"
    }
   },
   "outputs": [],
   "source": [
    "researcher_client.code.get_outliers(df=asset)"
   ]
  },
  {
   "cell_type": "markdown",
   "id": "87a61dd5",
   "metadata": {
    "slideshow": {
     "slide_type": "slide"
    }
   },
   "source": [
    "# The End!\n",
    "\n",
    " The researcher can now either:\n",
    "- submit follow up requests\n",
    "- finalize the study\n",
    "\n",
    "## Last step in the process:\n",
    "- the researcher presents their findings to the organisation\n",
    "- if the research findings raise specific issues in the behaviour of the AI algorithms, the company can work to improve their systems accordingly.\n",
    "<!-- # Thank you!\n",
    "\n",
    "\n",
    "## We invite you now to conduct your own audit on Linkedin's and DailyMotion's node.\n",
    "\n",
    "Steps:\n",
    "1. Download the notebooks available here: ...\n",
    "2. Follow the installation instructions\n",
    "3. Creatively propose questions that can be answered with the data! -->"
   ]
  }
 ],
 "metadata": {
  "kernelspec": {
   "display_name": "Python 3 (ipykernel)",
   "language": "python",
   "name": "python3"
  },
  "language_info": {
   "codemirror_mode": {
    "name": "ipython",
    "version": 3
   },
   "file_extension": ".py",
   "mimetype": "text/x-python",
   "name": "python",
   "nbconvert_exporter": "python",
   "pygments_lexer": "ipython3",
   "version": "3.9.5"
  },
  "widgets": {
   "application/vnd.jupyter.widget-state+json": {
    "state": {},
    "version_major": 2,
    "version_minor": 0
   }
  }
 },
 "nbformat": 4,
 "nbformat_minor": 5
}
